{
 "cells": [
  {
   "cell_type": "markdown",
   "metadata": {},
   "source": [
    "# 图片操作"
   ]
  },
  {
   "cell_type": "markdown",
   "metadata": {},
   "source": [
    "***\n",
    "***"
   ]
  },
  {
   "cell_type": "code",
   "execution_count": 1,
   "metadata": {},
   "outputs": [],
   "source": [
    "import numpy as np\n",
    "import cv2\n",
    "import argparse\n",
    "import imutils"
   ]
  },
  {
   "cell_type": "markdown",
   "metadata": {},
   "source": [
    "* 图像矩阵的shape属性表示图像的大小，shape会返回tuple元组，第一个元素表示矩阵行数，第二个元组表示矩阵列数，第三个元素是3，表示像素值由光的三原色组成。\n",
    "\n",
    "> cv2.imread().shape[0]  #矩阵行数\n",
    "\n",
    "> cv2.imread().shape[1]  #矩阵列数 \n",
    "\n",
    "> cv2.imread().shape[2]  #像素值由光的三原色组成"
   ]
  },
  {
   "cell_type": "markdown",
   "metadata": {},
   "source": [
    "***\n",
    "***"
   ]
  },
  {
   "cell_type": "markdown",
   "metadata": {},
   "source": [
    "## 图像平移"
   ]
  },
  {
   "cell_type": "code",
   "execution_count": 2,
   "metadata": {},
   "outputs": [
    {
     "data": {
      "text/plain": [
       "-1"
      ]
     },
     "execution_count": 2,
     "metadata": {},
     "output_type": "execute_result"
    }
   ],
   "source": [
    "#ap = argparse.ArgumentParser()\n",
    "#ap.add_argument(\"-i\",\"--image\",required = True,\n",
    " #               help = \"Path to the image\")\n",
    "#args = vars(ap.parse_args())\n",
    "#image = cv2.imread(arge[\"image\"])\n",
    "image = cv2.imread(\"1.jpg\")\n",
    "cv2.imshow(\"Original\",image)\n",
    "\n",
    "M = np.float32([[1,0,25],[0,1,50]])\n",
    "#定义我们的平移矩阵M\n",
    "#矩阵M被定义为一个浮点数组 - 这很重要，因为OpenCV期望这个矩阵是浮点类型的。\n",
    "#矩阵的第一行是[1,0，tx]，其中tx是像素的数量，我们将左右移动图像。\n",
    "#tx的负值会将图像左移，正值会将图像向右移\n",
    "#我们将矩阵的第二行定义为[0，1，ty]，其中ty是我们将向上或向下移动图像的像素数量。\n",
    "#ty的负值会使图像向上移动，正值会使图像向下移动。\n",
    "shifted = cv2.warpAffine(image,M,(image.shape[1],image.shape[0]))\n",
    "#warpAffine第一个参数是我们想要移动的图像，第二个参数是我们的平移矩阵M.\n",
    "#最后，我们手动提供图像的尺寸（宽度和高度）作为第三个参数\n",
    "cv2.imshow(\"Shifted\",shifted)\n",
    "\n",
    "M = np.float32([[1,0,-50],[0,1,-90]])\n",
    "shifted = cv2.warpAffine(image,M,(image.shape[1],image.shape[0]))\n",
    "cv2.imshow(\"Shifted\",shifted)\n",
    "cv2.waitKey(0)"
   ]
  },
  {
   "cell_type": "markdown",
   "metadata": {},
   "source": [
    "***"
   ]
  },
  {
   "cell_type": "markdown",
   "metadata": {},
   "source": [
    "### imutils.translate()源码\n",
    "* imutils这个包是对opencv的一个封装\n",
    "\n",
    "```\n",
    "import numpy as np\n",
    "import cv2\n",
    "\n",
    "def translate(image, x, y):\n",
    "    M = np.float32([[1, 0, x], [0, 1, y]])\n",
    "    shifted = cv2.warpAffine(image, M, (image.shape[1], image.shape[0]))\n",
    "    return shifted\n",
    "```"
   ]
  },
  {
   "cell_type": "code",
   "execution_count": 3,
   "metadata": {},
   "outputs": [
    {
     "data": {
      "text/plain": [
       "-1"
      ]
     },
     "execution_count": 3,
     "metadata": {},
     "output_type": "execute_result"
    }
   ],
   "source": [
    "cv2.imread(\"1.jpg\")\n",
    "cv2.imshow(\"Original\", image)\n",
    "\n",
    "shifted =imutils.translate(image,0,100)\n",
    "cv2.imshow(\"Shifted Up and Left\",shifted)\n",
    "\n",
    "cv2.waitKey(0)"
   ]
  },
  {
   "cell_type": "markdown",
   "metadata": {},
   "source": [
    "***\n",
    "***"
   ]
  },
  {
   "cell_type": "markdown",
   "metadata": {},
   "source": [
    "## 图像旋转"
   ]
  },
  {
   "cell_type": "code",
   "execution_count": 2,
   "metadata": {},
   "outputs": [
    {
     "data": {
      "text/plain": [
       "-1"
      ]
     },
     "execution_count": 2,
     "metadata": {},
     "output_type": "execute_result"
    }
   ],
   "source": [
    "img = cv2.imread(\"1.jpg\")\n",
    "cv2.imshow(\"1\",img)\n",
    "\n",
    "(h,w) = img.shape[:2]\n",
    "center = (w//2,h//2)\n",
    "\n",
    "M = cv2.getRotationMatrix2D(center,45,1.0)\n",
    "#cv2.getRotationMatrix2D(center, degrees , scale)\n",
    "#center为需要围绕旋转的点，当我们旋转图像时，我们需要指定我们要旋转的点。\n",
    "#在大多数情况下，你会想要围绕图像的中心旋转;然而，\n",
    "#OpenCV允许你指定你想旋转的任意点\n",
    "# degrees 旋转的角度\n",
    "# scale 比例 这里你可以指定一个浮点值，其中1.0意味着使用相同的图像转换。但是，如果您指定的值为2.0，则图像的大小将加倍。类似地，0.5的值将图像的大小减半。\n",
    "#就像我们定义矩阵来翻译图像一样，我们也定义了一个矩阵来旋转图像。我们只需要调用cv2.getRotationMatrix2D方法，而不是使用NumPy手工构造矩阵\n",
    "rotated = cv2.warpAffine(img,M,(w,h))\n",
    "cv2.imshow(\"45`\",rotated)\n",
    "\n",
    "M = cv2.getRotationMatrix2D(center, -90,1.0)\n",
    "rotated = cv2.warpAffine(img, M ,(w,h))\n",
    "cv2.imshow(\"Rotated by -90 Degrees\",rotated)\n",
    "\n",
    "cv2.waitKey(0)"
   ]
  },
  {
   "cell_type": "markdown",
   "metadata": {},
   "source": [
    "***"
   ]
  },
  {
   "cell_type": "markdown",
   "metadata": {},
   "source": [
    "### imutils.rotate()源码：\n",
    "\n",
    "```\n",
    "def rotate(image, angle ,center= None,scale = 1.0):\n",
    "    (h,w)= image.shape[:2]\n",
    "    if center is None:\n",
    "        center =(w /2,h/2)\n",
    "    M = cv2.getRotationMatrix2D(center,angle,scale)\n",
    "    rotated = cv2.warpAffine(image, M ,(w,h))\n",
    "    return rotated\n",
    "\n",
    "```"
   ]
  },
  {
   "cell_type": "code",
   "execution_count": 3,
   "metadata": {},
   "outputs": [
    {
     "data": {
      "text/plain": [
       "-1"
      ]
     },
     "execution_count": 3,
     "metadata": {},
     "output_type": "execute_result"
    }
   ],
   "source": [
    "img = cv2.imread(\"1.jpg\")\n",
    "rotated = imutils.rotate(img,60,None,0.5)\n",
    "cv2.imshow(\"Rotated by imutils\",rotated)\n",
    "\n",
    "cv2.waitKey(0)"
   ]
  },
  {
   "cell_type": "markdown",
   "metadata": {},
   "source": [
    "***\n",
    "***"
   ]
  },
  {
   "cell_type": "markdown",
   "metadata": {},
   "source": [
    "## 调整大小"
   ]
  },
  {
   "cell_type": "code",
   "execution_count": 2,
   "metadata": {},
   "outputs": [
    {
     "data": {
      "text/plain": [
       "-1"
      ]
     },
     "execution_count": 2,
     "metadata": {},
     "output_type": "execute_result"
    }
   ],
   "source": [
    "img = cv2.imread(\"1.jpg\")\n",
    "cv2.imshow(\"1\",img)\n",
    "\n",
    "r = 150.0 / img.shape[1]\n",
    "dim  = (150,int(img.shape[0]*r))\n",
    "resized = cv2.resize(img,dim,interpolation = cv2.INTER_AREA)\n",
    "#cv2.resize(image,dim,interpolation)  \n",
    "#image 需要调整的图片    dim 新图片的尺寸 \n",
    "#最后一个参数是我们的插值方法，它是在幕后处理实际图像大小调整的算法\n",
    "#cv2.INTER_AREA，cv2.INTER_LINEAR,cv2.INTER_CUBIC,cv2.INTER_NEAREST\n",
    "# interpolation 可选参数\n",
    "# INTER_NEAREST - a nearest-neighbor interpolation\n",
    "# INTER_LINEAR - a bilinear interpolation (used by default)\n",
    "# INTER_AREA - resampling using pixel area relation. It may be a preferred method for image decimation, as it gives moire’-free results. But when the image is zoomed, it is similar to the INTER_NEAREST method.\n",
    "# INTER_CUBIC - a bicubic interpolation over 4x4 pixel neighborhood\n",
    "# INTER_LANCZOS4 - a Lanczos interpolation over 8x8 pixel neighborhood\n",
    "\"\"\"\n",
    "NTER_NEAREST - 最近邻居插值\n",
    "INTER_LINEAR - 双线性插值（默认使用）\n",
    "INTER_AREA - 使用像素区域关系重采样。这可能是图像抽取的首选方法，因为它可以产生无莫尔效应的结果。但是当图像放大时，它与INTER_NEAREST方法类似。 \n",
    "INTER_CUBIC - 4x4像素邻域上的双三次插值\n",
    "INTER_LANCZOS4 - 8x8像素邻域上的Lanczos插值\n",
    "\"\"\"\n",
    "cv2.imshow('2',resized)\n",
    "cv2.waitKey(0)"
   ]
  },
  {
   "cell_type": "markdown",
   "metadata": {},
   "source": [
    "***\n",
    "***"
   ]
  },
  {
   "cell_type": "markdown",
   "metadata": {},
   "source": [
    "## 翻转\n",
    "我们可以在x或y轴周围翻转图像，甚至可以翻转图像（We can flip an image around either the x or y axis, or even both.）"
   ]
  },
  {
   "cell_type": "code",
   "execution_count": 2,
   "metadata": {},
   "outputs": [
    {
     "data": {
      "text/plain": [
       "-1"
      ]
     },
     "execution_count": 2,
     "metadata": {},
     "output_type": "execute_result"
    }
   ],
   "source": [
    "img = cv2.imread(\"1.jpg\")\n",
    "cv2.imshow(\"Original\",img)\n",
    "\n",
    "flipped = cv2.flip(img,1)\n",
    "# 使用1的翻转代码值表示我们将水平地围绕y轴翻转图像。\n",
    "# 镜像\n",
    "cv2.imshow(\"1\",flipped)\n",
    "\n",
    "flipped = cv2.flip(img,0)\n",
    "# 指定一个0的翻转代码表示我们想要垂直翻转图像，围绕X轴\n",
    "# 上下颠倒\n",
    "cv2.imshow('0',flipped)\n",
    "\n",
    "flipped = cv2.flip(img,-1)\n",
    "# 使用负向翻转代码将图像翻转两个轴。\n",
    "cv2.imshow(\"-1\",flipped)\n",
    "\n",
    "cv2.waitKey(0)"
   ]
  },
  {
   "cell_type": "markdown",
   "metadata": {},
   "source": [
    "***\n",
    "***"
   ]
  },
  {
   "cell_type": "markdown",
   "metadata": {},
   "source": [
    "## 裁剪\n",
    "图片的裁剪使用NumPy数组切片来完成图像裁剪"
   ]
  },
  {
   "cell_type": "code",
   "execution_count": 2,
   "metadata": {},
   "outputs": [
    {
     "data": {
      "text/plain": [
       "-1"
      ]
     },
     "execution_count": 2,
     "metadata": {},
     "output_type": "execute_result"
    }
   ],
   "source": [
    "img = cv2.imread(\"1.jpg\")\n",
    "cv2.imshow(\"1\",img)\n",
    "\n",
    "cropped = img[30:220,10:335]\n",
    "#NumPy数组中高度在前面，宽度在后面\n",
    "#所以我们需要截取的区域值定义需要按照numpy的格式，如上[starty:endy,startx:endx]\n",
    "# 1.Start y: The starting y coordinate. In this case, we\n",
    "# start at y = 30.\n",
    "# 2. End y: The ending y coordinate. We will end our crop\n",
    "# at y = 220.\n",
    "# 3. Start x: The starting x coordinate of the slice. We start\n",
    "# the crop at x = 10.\n",
    "# 4. End x: The ending x-axis coordinate of the slice. Our\n",
    "# slice ends at x = 335.\n",
    "\n",
    "cv2.imshow(\"upgrade\",cropped)\n",
    "cv2.waitKey(0)"
   ]
  },
  {
   "cell_type": "markdown",
   "metadata": {},
   "source": [
    "***"
   ]
  },
  {
   "cell_type": "markdown",
   "metadata": {},
   "source": [
    "### 访问与操作像素"
   ]
  },
  {
   "cell_type": "code",
   "execution_count": 3,
   "metadata": {},
   "outputs": [
    {
     "name": "stdout",
     "output_type": "stream",
     "text": [
      "位置(0,0)处的像素 - 红:255,绿:255,蓝:255\n",
      "位置(0,0)处的像素 - 红:200,绿:150,蓝:100\n"
     ]
    },
    {
     "data": {
      "text/plain": [
       "-1"
      ]
     },
     "execution_count": 3,
     "metadata": {},
     "output_type": "execute_result"
    }
   ],
   "source": [
    "(b,g,r) = img[0,0]\n",
    "#读取(0,0)像素，Python中图像像素是按B,G,R顺序存储的\n",
    "print (\"位置(0,0)处的像素 - 红:%d,绿:%d,蓝:%d\" %(r,g,b))\n",
    "#显示像素值\n",
    "\n",
    "img[0,0] = (100,150,200)\n",
    "#更改位置(0,0)处的像素\n",
    "\n",
    "(b,g,r) = img[0,0]#再次读取(0,0)像素\n",
    "print (\"位置(0,0)处的像素 - 红:%d,绿:%d,蓝:%d\" %(r,g,b))\n",
    "#显示更改后的像素值\n",
    "\n",
    "corner = img[0:100,0:100]\n",
    "#读取像素块\n",
    "cv2.imshow(\"Corner\",corner)\n",
    "\n",
    "img[0:100,0:100] = (0,255,0)\n",
    "#更改读取的像素块\n",
    "\n",
    "cv2.imshow(\"Updated\",img)\n",
    "\n",
    "cv2.waitKey(0)"
   ]
  },
  {
   "cell_type": "markdown",
   "metadata": {},
   "source": [
    "***\n",
    "***"
   ]
  }
 ],
 "metadata": {
  "kernelspec": {
   "display_name": "Python 3",
   "language": "python",
   "name": "python3"
  },
  "language_info": {
   "codemirror_mode": {
    "name": "ipython",
    "version": 3
   },
   "file_extension": ".py",
   "mimetype": "text/x-python",
   "name": "python",
   "nbconvert_exporter": "python",
   "pygments_lexer": "ipython3",
   "version": "3.6.4"
  }
 },
 "nbformat": 4,
 "nbformat_minor": 2
}

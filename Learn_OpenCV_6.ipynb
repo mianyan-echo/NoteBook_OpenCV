{
 "cells": [
  {
   "cell_type": "code",
   "execution_count": 1,
   "metadata": {},
   "outputs": [],
   "source": [
    "import numpy as np\n",
    "import cv2"
   ]
  },
  {
   "cell_type": "code",
   "execution_count": 2,
   "metadata": {},
   "outputs": [],
   "source": [
    "img = cv2.imread(\"RGB.jpg\")"
   ]
  },
  {
   "cell_type": "markdown",
   "metadata": {},
   "source": [
    "## 图片蒙版"
   ]
  },
  {
   "cell_type": "code",
   "execution_count": 3,
   "metadata": {},
   "outputs": [
    {
     "data": {
      "text/plain": [
       "-1"
      ]
     },
     "execution_count": 3,
     "metadata": {},
     "output_type": "execute_result"
    }
   ],
   "source": [
    "cv2.imshow(\"img\",img)\n",
    "\n",
    "mask = np.zeros(img.shape[:2],dtype=\"uint8\")\n",
    "(cx,cy) = (img.shape[1]//2,img.shape[0]//2)\n",
    "cv2.rectangle(mask,(cx-250,cy-150),(cx+200,cy+150),255,-1)\n",
    "cv2.imshow(\"Mask\",mask)\n",
    "\n",
    "masked = cv2.bitwise_and(img,img,mask=mask)\n",
    "cv2.imshow(\"Masked\",masked)\n",
    "cv2.waitKey(0)"
   ]
  },
  {
   "cell_type": "code",
   "execution_count": 4,
   "metadata": {},
   "outputs": [
    {
     "data": {
      "text/plain": [
       "-1"
      ]
     },
     "execution_count": 4,
     "metadata": {},
     "output_type": "execute_result"
    }
   ],
   "source": [
    "mask = np.zeros(img.shape[:2],dtype=\"uint8\")\n",
    "cv2.circle(mask,(cx,cy),100,255,-1)\n",
    "masked = cv2.bitwise_and(img,img,mask=mask)\n",
    "cv2.imshow(\"Mask\",mask)\n",
    "cv2.imshow(\"Masked\",masked)\n",
    "cv2.waitKey(0)"
   ]
  },
  {
   "cell_type": "markdown",
   "metadata": {},
   "source": [
    "## BGR三通道分割\n",
    "拆分图像颜色通道使用cv2.split(image)方法\n",
    "\n",
    "合并 使用 cv2.merge([B,G,R]) 方法\n",
    "***"
   ]
  },
  {
   "cell_type": "code",
   "execution_count": 5,
   "metadata": {},
   "outputs": [],
   "source": [
    "(B,G,R) = cv2.split(img)\n",
    "cv2.imshow(\"Blue\",B)\n",
    "cv2.imshow(\"Green\",G)\n",
    "cv2.imshow(\"Red\",R)\n",
    "\n",
    "merged = cv2.merge([B,G,R])\n",
    "cv2.imshow(\"Merged\",merged)\n",
    "cv2.waitKey(0)\n",
    "cv2.destroyAllWindows()\n",
    "\n",
    "zeros = np.zeros(img.shape[:2],dtype=\"uint8\")\n",
    "cv2.imshow(\"red\",cv2.merge([zeros,zeros,R]))\n",
    "cv2.imshow(\"blue\",cv2.merge([B,zeros,zeros]))\n",
    "cv2.imshow(\"green\",cv2.merge([zeros,G,zeros]))\n",
    "cv2.waitKey(0)\n",
    "cv2.destroyAllWindows()\n",
    "# 为了显示频道的实际“颜色”，我们首先需要使用cv2.split来分割图像。\n",
    "# 然后，我们需要重新构建图像，\n",
    "# 但这次设置所有像素为0，除了当前通道"
   ]
  },
  {
   "cell_type": "code",
   "execution_count": 6,
   "metadata": {},
   "outputs": [
    {
     "data": {
      "text/plain": [
       "array([[0, 0, 0, ..., 0, 0, 0],\n",
       "       [0, 0, 0, ..., 0, 0, 0],\n",
       "       [2, 2, 2, ..., 0, 0, 0],\n",
       "       ..., \n",
       "       [1, 1, 1, ..., 4, 5, 5],\n",
       "       [1, 1, 1, ..., 4, 5, 5],\n",
       "       [1, 1, 1, ..., 4, 5, 5]], dtype=uint8)"
      ]
     },
     "execution_count": 6,
     "metadata": {},
     "output_type": "execute_result"
    }
   ],
   "source": [
    "B"
   ]
  },
  {
   "cell_type": "code",
   "execution_count": 7,
   "metadata": {},
   "outputs": [
    {
     "data": {
      "text/plain": [
       "array([[0, 0, 0, ..., 0, 0, 0],\n",
       "       [0, 0, 0, ..., 0, 0, 0],\n",
       "       [2, 2, 2, ..., 0, 0, 0],\n",
       "       ..., \n",
       "       [1, 1, 1, ..., 4, 5, 5],\n",
       "       [1, 1, 1, ..., 4, 5, 5],\n",
       "       [1, 1, 1, ..., 4, 5, 5]], dtype=uint8)"
      ]
     },
     "execution_count": 7,
     "metadata": {},
     "output_type": "execute_result"
    }
   ],
   "source": [
    "G"
   ]
  },
  {
   "cell_type": "code",
   "execution_count": 8,
   "metadata": {},
   "outputs": [
    {
     "data": {
      "text/plain": [
       "array([[15, 13,  8, ...,  0,  0,  0],\n",
       "       [ 7,  6,  3, ...,  0,  0,  0],\n",
       "       [ 0,  0,  0, ...,  0,  0,  0],\n",
       "       ..., \n",
       "       [ 1,  1,  1, ...,  4,  5,  5],\n",
       "       [ 1,  1,  1, ...,  4,  5,  5],\n",
       "       [ 1,  1,  1, ...,  4,  5,  5]], dtype=uint8)"
      ]
     },
     "execution_count": 8,
     "metadata": {},
     "output_type": "execute_result"
    }
   ],
   "source": [
    "R"
   ]
  },
  {
   "cell_type": "code",
   "execution_count": 9,
   "metadata": {},
   "outputs": [
    {
     "data": {
      "text/plain": [
       "(179, 494)"
      ]
     },
     "execution_count": 9,
     "metadata": {},
     "output_type": "execute_result"
    }
   ],
   "source": [
    "B.shape"
   ]
  },
  {
   "cell_type": "code",
   "execution_count": 10,
   "metadata": {},
   "outputs": [
    {
     "data": {
      "text/plain": [
       "255"
      ]
     },
     "execution_count": 10,
     "metadata": {},
     "output_type": "execute_result"
    }
   ],
   "source": [
    "B.max()"
   ]
  }
 ],
 "metadata": {
  "kernelspec": {
   "display_name": "Python 3",
   "language": "python",
   "name": "python3"
  },
  "language_info": {
   "codemirror_mode": {
    "name": "ipython",
    "version": 3
   },
   "file_extension": ".py",
   "mimetype": "text/x-python",
   "name": "python",
   "nbconvert_exporter": "python",
   "pygments_lexer": "ipython3",
   "version": "3.6.4"
  }
 },
 "nbformat": 4,
 "nbformat_minor": 2
}

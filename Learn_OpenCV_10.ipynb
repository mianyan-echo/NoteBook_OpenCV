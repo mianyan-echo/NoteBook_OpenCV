{
 "cells": [
  {
   "cell_type": "code",
   "execution_count": 7,
   "metadata": {},
   "outputs": [],
   "source": [
    "import cv2\n",
    "import numpy as np"
   ]
  },
  {
   "cell_type": "code",
   "execution_count": 9,
   "metadata": {},
   "outputs": [
    {
     "name": "stdout",
     "output_type": "stream",
     "text": [
      "*****************\n",
      "[[[160 160]]\n",
      "\n",
      " [[160 161]]\n",
      "\n",
      " [[160 162]]\n",
      "\n",
      " [[160 163]]\n",
      "\n",
      " [[161 162]]\n",
      "\n",
      " [[161 161]]\n",
      "\n",
      " [[161 160]]]\n",
      "((160.5, 161.2857208251953), (0.0, 1.0), 0.0)\n",
      "[array([[[160, 160]],\n",
      "\n",
      "       [[160, 161]],\n",
      "\n",
      "       [[160, 162]],\n",
      "\n",
      "       [[160, 163]],\n",
      "\n",
      "       [[161, 162]],\n",
      "\n",
      "       [[161, 161]],\n",
      "\n",
      "       [[161, 160]]], dtype=int32), array([[[128, 160]],\n",
      "\n",
      "       [[129, 160]],\n",
      "\n",
      "       [[130, 160]],\n",
      "\n",
      "       [[131, 160]],\n",
      "\n",
      "       [[132, 160]],\n",
      "\n",
      "       [[133, 160]],\n",
      "\n",
      "       [[134, 160]],\n",
      "\n",
      "       [[135, 160]],\n",
      "\n",
      "       [[136, 160]],\n",
      "\n",
      "       [[137, 160]],\n",
      "\n",
      "       [[138, 160]],\n",
      "\n",
      "       [[139, 160]],\n",
      "\n",
      "       [[140, 160]],\n",
      "\n",
      "       [[141, 160]],\n",
      "\n",
      "       [[142, 160]],\n",
      "\n",
      "       [[143, 160]],\n",
      "\n",
      "       [[142, 160]],\n",
      "\n",
      "       [[141, 160]],\n",
      "\n",
      "       [[140, 160]],\n",
      "\n",
      "       [[139, 160]],\n",
      "\n",
      "       [[138, 160]],\n",
      "\n",
      "       [[137, 160]],\n",
      "\n",
      "       [[136, 160]],\n",
      "\n",
      "       [[135, 160]],\n",
      "\n",
      "       [[134, 160]],\n",
      "\n",
      "       [[133, 160]],\n",
      "\n",
      "       [[132, 160]],\n",
      "\n",
      "       [[131, 160]],\n",
      "\n",
      "       [[130, 160]],\n",
      "\n",
      "       [[129, 160]]], dtype=int32), array([[[ 13, 160]],\n",
      "\n",
      "       [[ 12, 161]],\n",
      "\n",
      "       [[ 12, 162]],\n",
      "\n",
      "       [[ 13, 163]],\n",
      "\n",
      "       [[ 14, 163]],\n",
      "\n",
      "       [[ 15, 162]],\n",
      "\n",
      "       [[ 14, 161]]], dtype=int32), array([[[160,  14]],\n",
      "\n",
      "       [[160,  15]],\n",
      "\n",
      "       [[161,  15]]], dtype=int32), array([[[13, 14]],\n",
      "\n",
      "       [[12, 15]],\n",
      "\n",
      "       [[13, 15]],\n",
      "\n",
      "       [[14, 15]],\n",
      "\n",
      "       [[15, 15]],\n",
      "\n",
      "       [[15, 14]],\n",
      "\n",
      "       [[14, 14]]], dtype=int32)]\n"
     ]
    }
   ],
   "source": [
    "img = cv2.imread('RGB.jpg')\n",
    "hsv = cv2.cvtColor(img,cv2.COLOR_BGR2HSV)\n",
    "\n",
    "lower_red=np.array([160,110,170])\n",
    "upper_red=np.array([180,255,255])\n",
    "maskR = cv2.inRange(hsv,lower_red,upper_red)\n",
    "res = cv2.bitwise_and(img,img,mask=maskR)\n",
    "gray = cv2.cvtColor(res,cv2.COLOR_BGR2GRAY)\n",
    "ret,thresh = cv2.threshold(gray,1,1,cv2.THRESH_TOZERO)\n",
    "image,contours,hierarchy = cv2.findContours(thresh,cv2.RETR_TREE,cv2.CHAIN_APPROX_NONE)\n",
    "cnt = contours[0]\n",
    "#M = cv2.moments(cnt)\n",
    "ellipse = cv2.fitEllipse(cnt)\n",
    "#print(M)\n",
    "print(\"*****************\")\n",
    "print(cnt)\n",
    "print(ellipse)\n",
    "print(contours)"
   ]
  },
  {
   "cell_type": "code",
   "execution_count": 3,
   "metadata": {},
   "outputs": [
    {
     "ename": "NameError",
     "evalue": "name 'M' is not defined",
     "output_type": "error",
     "traceback": [
      "\u001b[1;31m---------------------------------------------------------------------------\u001b[0m",
      "\u001b[1;31mNameError\u001b[0m                                 Traceback (most recent call last)",
      "\u001b[1;32m<ipython-input-3-e6819fc6d1bd>\u001b[0m in \u001b[0;36m<module>\u001b[1;34m()\u001b[0m\n\u001b[1;32m----> 1\u001b[1;33m \u001b[0mcx\u001b[0m \u001b[1;33m=\u001b[0m \u001b[0mint\u001b[0m\u001b[1;33m(\u001b[0m\u001b[0mM\u001b[0m\u001b[1;33m[\u001b[0m\u001b[1;34m'm10'\u001b[0m\u001b[1;33m]\u001b[0m\u001b[1;33m/\u001b[0m\u001b[1;33m(\u001b[0m\u001b[1;36m2\u001b[0m\u001b[1;33m*\u001b[0m\u001b[0mM\u001b[0m\u001b[1;33m[\u001b[0m\u001b[1;34m'm00'\u001b[0m\u001b[1;33m]\u001b[0m\u001b[1;33m)\u001b[0m\u001b[1;33m)\u001b[0m\u001b[1;33m\u001b[0m\u001b[0m\n\u001b[0m\u001b[0;32m      2\u001b[0m \u001b[0mcy\u001b[0m \u001b[1;33m=\u001b[0m \u001b[0mint\u001b[0m\u001b[1;33m(\u001b[0m\u001b[0mM\u001b[0m\u001b[1;33m[\u001b[0m\u001b[1;34m'm01'\u001b[0m\u001b[1;33m]\u001b[0m\u001b[1;33m/\u001b[0m\u001b[1;33m(\u001b[0m\u001b[1;36m2\u001b[0m\u001b[1;33m*\u001b[0m\u001b[0mM\u001b[0m\u001b[1;33m[\u001b[0m\u001b[1;34m'm00'\u001b[0m\u001b[1;33m]\u001b[0m\u001b[1;33m)\u001b[0m\u001b[1;33m)\u001b[0m\u001b[1;33m\u001b[0m\u001b[0m\n",
      "\u001b[1;31mNameError\u001b[0m: name 'M' is not defined"
     ]
    }
   ],
   "source": [
    "cx = int(M['m10']/(2*M['m00']))\n",
    "cy = int(M['m01']/(2*M['m00']))"
   ]
  },
  {
   "cell_type": "code",
   "execution_count": 4,
   "metadata": {},
   "outputs": [],
   "source": [
    "(x,y),(MA,ma),angle = ellipse"
   ]
  },
  {
   "cell_type": "code",
   "execution_count": 5,
   "metadata": {},
   "outputs": [
    {
     "data": {
      "text/plain": [
       "array([[[ 0,  0, 15],\n",
       "        [ 0,  0, 13],\n",
       "        [ 0,  0,  8],\n",
       "        ...,\n",
       "        [ 0,  0,  0],\n",
       "        [ 0,  0,  0],\n",
       "        [ 0,  0,  0]],\n",
       "\n",
       "       [[ 0,  0,  7],\n",
       "        [ 0,  0,  6],\n",
       "        [ 0,  0,  3],\n",
       "        ...,\n",
       "        [ 0,  0,  0],\n",
       "        [ 0,  0,  0],\n",
       "        [ 0,  0,  0]],\n",
       "\n",
       "       [[ 2,  2,  0],\n",
       "        [ 2,  2,  0],\n",
       "        [ 2,  2,  0],\n",
       "        ...,\n",
       "        [ 0,  0,  0],\n",
       "        [ 0,  0,  0],\n",
       "        [ 0,  0,  0]],\n",
       "\n",
       "       ...,\n",
       "\n",
       "       [[ 1,  1,  1],\n",
       "        [ 1,  1,  1],\n",
       "        [ 1,  1,  1],\n",
       "        ...,\n",
       "        [ 4,  4,  4],\n",
       "        [ 5,  5,  5],\n",
       "        [ 5,  5,  5]],\n",
       "\n",
       "       [[ 1,  1,  1],\n",
       "        [ 1,  1,  1],\n",
       "        [ 1,  1,  1],\n",
       "        ...,\n",
       "        [ 4,  4,  4],\n",
       "        [ 5,  5,  5],\n",
       "        [ 5,  5,  5]],\n",
       "\n",
       "       [[ 1,  1,  1],\n",
       "        [ 1,  1,  1],\n",
       "        [ 1,  1,  1],\n",
       "        ...,\n",
       "        [ 4,  4,  4],\n",
       "        [ 5,  5,  5],\n",
       "        [ 5,  5,  5]]], dtype=uint8)"
      ]
     },
     "execution_count": 5,
     "metadata": {},
     "output_type": "execute_result"
    }
   ],
   "source": [
    "cv2.circle(img,(int(x),int(y)),1,(255,255,255),-1)"
   ]
  },
  {
   "cell_type": "code",
   "execution_count": 6,
   "metadata": {},
   "outputs": [],
   "source": [
    "cv2.imshow(\"img\",img)\n",
    "cv2.waitKey(0)\n",
    "cv2.destroyAllWindows()"
   ]
  },
  {
   "cell_type": "code",
   "execution_count": null,
   "metadata": {},
   "outputs": [],
   "source": []
  }
 ],
 "metadata": {
  "kernelspec": {
   "display_name": "Python 3",
   "language": "python",
   "name": "python3"
  },
  "language_info": {
   "codemirror_mode": {
    "name": "ipython",
    "version": 3
   },
   "file_extension": ".py",
   "mimetype": "text/x-python",
   "name": "python",
   "nbconvert_exporter": "python",
   "pygments_lexer": "ipython3",
   "version": "3.6.4"
  }
 },
 "nbformat": 4,
 "nbformat_minor": 2
}

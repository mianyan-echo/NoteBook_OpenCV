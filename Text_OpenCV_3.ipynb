{
 "cells": [
  {
   "cell_type": "markdown",
   "metadata": {},
   "source": [
    "# 操作视频"
   ]
  },
  {
   "cell_type": "code",
   "execution_count": 1,
   "metadata": {},
   "outputs": [],
   "source": [
    "import cv2\n",
    "import numpy as np\n",
    "import random as rd"
   ]
  },
  {
   "cell_type": "code",
   "execution_count": 2,
   "metadata": {},
   "outputs": [],
   "source": [
    "def BGRrd():\n",
    "    B = rd.randint(0,255)\n",
    "    G = rd.randint(0,255)\n",
    "    R = rd.randint(0,255)\n",
    "    return (B,G,R)\n",
    "\n",
    "cap = cv2.VideoCapture(0)\n",
    "\n",
    "while True:\n",
    "    a,img = cap.read()\n",
    "    img = cv2.flip(img,1)\n",
    "    #镜像翻转\n",
    "    #img = cv2.flip(img,0)\n",
    "    #垂直翻转，上下颠倒\n",
    "    #img = cv2.flip(img,-1)\n",
    "    #镜像+颠倒\n",
    "    img[0:100,0:100] = BGRrd()\n",
    "    #操作像素点\n",
    "    #(w,h) = img.shape[:2]\n",
    "    #imgc = (w//2,h//2)\n",
    "    #M = cv2.getRotationMatrix2D(imgc,-45,1.0)\n",
    "    #img = cv2.warpAffine(img,M,(w,h))\n",
    "    cv2.imshow(\"img\",img)\n",
    "    if cv2.waitKey(1) &0xFF == ord('q'):\n",
    "        break\n",
    "cap.release()\n",
    "cv2.destroyAllWindows()"
   ]
  }
 ],
 "metadata": {
  "kernelspec": {
   "display_name": "Python 3",
   "language": "python",
   "name": "python3"
  },
  "language_info": {
   "codemirror_mode": {
    "name": "ipython",
    "version": 3
   },
   "file_extension": ".py",
   "mimetype": "text/x-python",
   "name": "python",
   "nbconvert_exporter": "python",
   "pygments_lexer": "ipython3",
   "version": "3.6.4"
  }
 },
 "nbformat": 4,
 "nbformat_minor": 2
}

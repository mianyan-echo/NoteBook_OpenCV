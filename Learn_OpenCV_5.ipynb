{
 "cells": [
  {
   "cell_type": "markdown",
   "metadata": {},
   "source": [
    "# 图像算术\n",
    "\n",
    "RGB的像素值都在[0,255],如果我们想给一个250的像素再加十个像素会怎么样？\n",
    "NumPy将执行模算术和“环绕”。比如250 再加10像素，会绕回到4，\n",
    "OpenCV 将执行剪切并确保像素值永远不会超出范围[0,255]\n",
    "***\n",
    "***"
   ]
  },
  {
   "cell_type": "code",
   "execution_count": 1,
   "metadata": {},
   "outputs": [],
   "source": [
    "from __future__ import print_function\n",
    "import numpy as np \n",
    "import argparse\n",
    "import cv2"
   ]
  },
  {
   "cell_type": "markdown",
   "metadata": {},
   "source": [
    "***\n",
    "* add—图像矩阵相加\n",
    "```\n",
    "cv2.add(src1, src2, dst=None, mask=None, dtype=None)\n",
    "src1：图像矩阵1\n",
    "src1：图像矩阵2\n",
    "dst：默认选项\n",
    "mask：默认选项\n",
    "dtype：默认选项\n",
    "```\n",
    "\n",
    "* subtract—图像矩阵相减\n",
    "```\n",
    "cv2.subtract(src1, src2, dst=None, mask=None, dtype=None)\n",
    "src1：图像矩阵1\n",
    "src1：图像矩阵2\n",
    "dst：默认选项\n",
    "mask：默认选项\n",
    "dtype：默认选项\n",
    "```\n",
    "\n",
    "* bitwise_and—图像与运算\n",
    "```\n",
    "函数原型：bitwise_and(src1, src2, dst=None, mask=None)\n",
    "src1：图像矩阵1\n",
    "src1：图像矩阵2\n",
    "dst：默认选项\n",
    "mask：默认选项\n",
    "```\n",
    "\n",
    "* bitwise_or—图像或运算\n",
    "```\n",
    "函数原型：bitwise_and(src1, src2, dst=None, mask=None)\n",
    "src1：图像矩阵1\n",
    "src1：图像矩阵2\n",
    "dst：默认选项\n",
    "mask：默认选项\n",
    "```\n",
    "\n",
    "* bitwise_xor—图像异或运算\n",
    "```\n",
    "函数原型：bitwise_and(src1, src2, dst=None, mask=None)\n",
    "src1：图像矩阵1\n",
    "src1：图像矩阵2\n",
    "dst：默认选项\n",
    "mask：默认选项\n",
    "```\n",
    "\n",
    "* bitwise_not—图像非运算\n",
    "```\n",
    "函数原型：bitwise_and(src1, src2, dst=None, mask=None)\n",
    "src1：图像矩阵1\n",
    "src1：图像矩阵2\n",
    "dst：默认选项\n",
    "mask：默认选项\n",
    "```\n",
    "***"
   ]
  },
  {
   "cell_type": "code",
   "execution_count": 2,
   "metadata": {},
   "outputs": [
    {
     "name": "stdout",
     "output_type": "stream",
     "text": [
      "max of 255:[[255]]\n",
      "min of 0:[[0]]\n",
      "wrap around :[44]\n",
      "wrap around :[206]\n"
     ]
    },
    {
     "data": {
      "text/plain": [
       "-1"
      ]
     },
     "execution_count": 2,
     "metadata": {},
     "output_type": "execute_result"
    }
   ],
   "source": [
    "#ap = argparse.ArgumentParser()\n",
    "#ap.add_argument(\"-i\",\"--image\",required =True, help=\"Path to the image\")\n",
    "#args = vars(ap.parse_args())\n",
    "\n",
    "#image = cv2.imread(args[\"image\"])\n",
    "image = cv2.imread(\"1.jpg\")\n",
    "cv2.imshow(\"Original\",image)\n",
    "\n",
    "print(\"max of 255:{}\".format(cv2.add(np.uint8([200]),np.uint8([100]))))\n",
    "print(\"min of 0:{}\".format(cv2.subtract(np.uint8([50]),np.uint8([100]))))\n",
    "\n",
    "print(\"wrap around :{}\".format(np.uint8([200])+np.uint8([100])))\n",
    "print(\"wrap around :{}\".format(np.uint8([50])-np.uint8([100])))\n",
    "\n",
    "cv2.waitKey(0)"
   ]
  },
  {
   "cell_type": "code",
   "execution_count": 3,
   "metadata": {},
   "outputs": [
    {
     "data": {
      "text/plain": [
       "-1"
      ]
     },
     "execution_count": 3,
     "metadata": {},
     "output_type": "execute_result"
    }
   ],
   "source": [
    "M = np.ones(image.shape, dtype=\"uint8\")*100\n",
    "# 与image大小一样的全100矩阵\n",
    "# defines a NumPy array of ones, with the same\n",
    "# size as our image.\n",
    "# 为了用100的值而不是1来填充我们的矩阵，我们简单地把1的矩阵乘以100。\n",
    "added = cv2.add(image,M)\n",
    "# 将图像image与M相加\n",
    "cv2.imshow(\"Added\",added)\n",
    "\n",
    "M = np.ones(image.shape,dtype =\"uint8\")*50\n",
    "#与image大小一样的全50矩阵\n",
    "subtracted = cv2.subtract(image,M)\n",
    "#将图像image与M相减\n",
    "cv2.imshow(\"Subtraced\",subtracted)\n",
    "cv2.waitKey(0)"
   ]
  },
  {
   "cell_type": "code",
   "execution_count": null,
   "metadata": {},
   "outputs": [],
   "source": []
  }
 ],
 "metadata": {
  "kernelspec": {
   "display_name": "Python 3",
   "language": "python",
   "name": "python3"
  },
  "language_info": {
   "codemirror_mode": {
    "name": "ipython",
    "version": 3
   },
   "file_extension": ".py",
   "mimetype": "text/x-python",
   "name": "python",
   "nbconvert_exporter": "python",
   "pygments_lexer": "ipython3",
   "version": "3.6.4"
  }
 },
 "nbformat": 4,
 "nbformat_minor": 2
}

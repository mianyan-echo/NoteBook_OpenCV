{
 "cells": [
  {
   "cell_type": "markdown",
   "metadata": {},
   "source": [
    "# 飘动字幕"
   ]
  },
  {
   "cell_type": "code",
   "execution_count": 1,
   "metadata": {},
   "outputs": [],
   "source": [
    "import cv2\n",
    "import numpy as np"
   ]
  },
  {
   "cell_type": "code",
   "execution_count": 2,
   "metadata": {},
   "outputs": [],
   "source": [
    "def X_Y():\n",
    "    X = int(np.random.randint(0,500,size=1))\n",
    "    Y = int(np.random.randint(50,600,size=1))\n",
    "    return (X,Y)\n",
    "\n",
    "def randomBGR():\n",
    "    '''\n",
    "    在颜色的位置上必须int()否则会报莫名其妙的错误\n",
    "    '''\n",
    "    B = int(np.random.randint(255,size=1))\n",
    "    G = int(np.random.randint(255,size=1))\n",
    "    R = int(np.random.randint(255,size=1))\n",
    "    return (B,G,R)\n",
    "\n",
    "while (True):\n",
    "    img = np.zeros((600,600,3),dtype=\"uint8\")\n",
    "    cv2.putText(img,'I Love You',X_Y(),cv2.FONT_HERSHEY_COMPLEX,1,randomBGR(),1)\n",
    "    cv2.imshow(\"image\",img)\n",
    "    if cv2.waitKey(200) &0xFF == ord('q'):\n",
    "        #cv2.waitKey()里的参数为零时屏幕不会动，大于0时代表多少毫秒\n",
    "        break\n",
    "cv2.destroyAllWindows()"
   ]
  },
  {
   "cell_type": "markdown",
   "metadata": {},
   "source": [
    "# 循环飘动"
   ]
  },
  {
   "cell_type": "code",
   "execution_count": 1,
   "metadata": {},
   "outputs": [],
   "source": [
    "import cv2\n",
    "import numpy as np\n",
    "from numpy import random as dom"
   ]
  },
  {
   "cell_type": "code",
   "execution_count": 2,
   "metadata": {},
   "outputs": [],
   "source": [
    "def randomBGR():\n",
    "    B = int(dom.randint(255,size=1))\n",
    "    G = int(dom.randint(255,size=1))\n",
    "    R = int(dom.randint(255,size=1))\n",
    "    return (B,G,R)\n",
    "\n",
    "for Y in range(50,600,50):\n",
    "    for X in range(0,500,5):\n",
    "        img = np.zeros((600,600,3),dtype=\"uint8\")\n",
    "        cv2.putText(img,'love',(X,Y),cv2.FONT_HERSHEY_COMPLEX,1,randomBGR(),1)\n",
    "        cv2.imshow('image',img)\n",
    "        if cv2.waitKey(1) &0xFF == ord('q'):\n",
    "            #此if不能被包含在外层for循环中\n",
    "            break\n",
    "cv2.destroyAllWindows()"
   ]
  },
  {
   "cell_type": "markdown",
   "metadata": {},
   "source": [
    "* 循环飘动有BUG，因为应用两次循环，所以如果在内层应用break只能跳出一次外层循环，而不能直接跳出整个循环体。\n",
    "* 目前两种选择解决方法：\n",
    "    > 找跳出循环的办法\n",
    "    \n",
    "    > 用其他循环方法"
   ]
  },
  {
   "cell_type": "markdown",
   "metadata": {},
   "source": [
    "## 解决跳出循环嵌套问题"
   ]
  },
  {
   "cell_type": "markdown",
   "metadata": {},
   "source": [
    "* 把循环体写成一个函数，跳出时直接用return跳出函数，从而实现跳出循环嵌套体"
   ]
  },
  {
   "cell_type": "code",
   "execution_count": 3,
   "metadata": {},
   "outputs": [],
   "source": [
    "def randomBGR():\n",
    "    B = int(dom.randint(255,size=1))\n",
    "    G = int(dom.randint(255,size=1))\n",
    "    R = int(dom.randint(255,size=1))\n",
    "    return (B,G,R)\n",
    "\n",
    "def main():\n",
    "    for Y in range(50,600,50):\n",
    "        for X in range(0,500,5):\n",
    "            img = np.zeros((600,600,3),dtype=\"uint8\")\n",
    "            cv2.putText(img,'love',(X,Y),cv2.FONT_HERSHEY_COMPLEX,1,randomBGR(),1)\n",
    "            cv2.imshow('image',img)\n",
    "            if cv2.waitKey(1) &0xFF == ord('q'):\n",
    "                return 0\n",
    "\n",
    "#调用函数\n",
    "main()\n",
    "cv2.destroyAllWindows()"
   ]
  },
  {
   "cell_type": "markdown",
   "metadata": {},
   "source": [
    "* 利用抛出错误"
   ]
  },
  {
   "cell_type": "code",
   "execution_count": 4,
   "metadata": {},
   "outputs": [],
   "source": [
    "class Found(Exception):\n",
    "    pass\n",
    "\n",
    "def randomBGR():\n",
    "    B = int(dom.randint(255,size=1))\n",
    "    G = int(dom.randint(255,size=1))\n",
    "    R = int(dom.randint(255,size=1))\n",
    "    return (B,G,R)\n",
    "\n",
    "try:\n",
    "    for Y in range(50,600,50):\n",
    "        for X in range(0,500,5):\n",
    "            img = np.zeros((600,600,3),dtype=\"uint8\")\n",
    "            cv2.putText(img,'love',(X,Y),cv2.FONT_HERSHEY_COMPLEX,1,randomBGR(),1)\n",
    "            cv2.imshow('image',img)\n",
    "            if cv2.waitKey(1) &0xFF == ord('q'):\n",
    "                raise Found\n",
    "except Found:\n",
    "    cv2.destroyAllWindows()"
   ]
  }
 ],
 "metadata": {
  "kernelspec": {
   "display_name": "Python 3",
   "language": "python",
   "name": "python3"
  },
  "language_info": {
   "codemirror_mode": {
    "name": "ipython",
    "version": 3
   },
   "file_extension": ".py",
   "mimetype": "text/x-python",
   "name": "python",
   "nbconvert_exporter": "python",
   "pygments_lexer": "ipython3",
   "version": "3.6.4"
  }
 },
 "nbformat": 4,
 "nbformat_minor": 2
}

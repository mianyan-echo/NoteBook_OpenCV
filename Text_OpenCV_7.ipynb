{
 "cells": [
  {
   "cell_type": "code",
   "execution_count": 1,
   "metadata": {},
   "outputs": [],
   "source": [
    "'''\n",
    "画出红色图形的轮廓，其中很多参数待调，计划通过TK设立滑块来实时调节参数\n",
    "'''\n",
    "\n",
    "import cv2\n",
    "import numpy as np"
   ]
  },
  {
   "cell_type": "code",
   "execution_count": 3,
   "metadata": {},
   "outputs": [],
   "source": [
    "cap = cv2.VideoCapture(0)   # 读取摄像头\n",
    "\n",
    "while True:\n",
    "    # 读取下一帧解码本帧\n",
    "    ret,im = cap.read()\n",
    "\n",
    "    # 用numpy建立一个和视频一样长宽的全黑画布\n",
    "    # 便于后边将图像画于画布上\n",
    "    pri = np.zeros(im.shape[:2])\n",
    "\n",
    "    # 将图像转化到HSV色彩空间格式，便于提取颜色\n",
    "    hsv = cv2.cvtColor(im,cv2.COLOR_BGR2HSV)\n",
    "\n",
    "    # 制作透过红色的蒙版\n",
    "    lower_red = np.array([160,110,170])\n",
    "    upper_red = np.array([180,255,255])\n",
    "    maskR = cv2.inRange(hsv,lower_red,upper_red)\n",
    "\n",
    "    # 将蒙版与图像结合，得到只透红色的图像\n",
    "    res = cv2.bitwise_and(im,im,mask=maskR)\n",
    "\n",
    "    # 画出图像中红色图形的外轮廓\n",
    "    gray = cv2.cvtColor(res,cv2.COLOR_BGR2GRAY)    # 将处理后的图像转换为灰度图，便于二值化\n",
    "    re,thresh = cv2.threshold(gray,1,1,cv2.THRESH_TOZERO)   # 将图像二值化，此函数只接受灰度图\n",
    "    image,contours,hierarchy = cv2.findContours(thresh,cv2.RETR_TREE,cv2.CHAIN_APPROX_SIMPLE)\n",
    "    # 在二值化的基础上找出轮廓\n",
    "    # image为thresh图像，contours为轮廓点的坐标，hierarchy为轮廓索引\n",
    "    #目前为止，hierarchy属性显得非常鸡肋，因为是动态视频，每次屏幕刷新索引号都不一样，所以无法应用索引号去噪\n",
    "    \n",
    "    if contours == []:\n",
    "        continue\n",
    "    else:\n",
    "        M = cv2.moments(contours[0])\n",
    "        if int(M['m00']) == 0:\n",
    "            continue\n",
    "        else:\n",
    "            cx = int(M['m10']/M['m00'])\n",
    "            cy = int(M['m01']/M['m00'])\n",
    "\n",
    "    # 在画布上画出轮廓\n",
    "    pri = np.zeros(im.shape[:2])\n",
    "    img = cv2.drawContours(pri,contours,-1,(255,255,255),1)\n",
    "    cv2.circle(img,(cx,cy),2,(255,255,255),-1)\n",
    "    cv2.imshow(\"video\",img)\n",
    "\n",
    "    if cv2.waitKey(1) &0xFF == ord(\"q\"):\n",
    "        break\n",
    "\n",
    "cap.release()\n",
    "cv2.destroyAllWindows()"
   ]
  },
  {
   "cell_type": "code",
   "execution_count": null,
   "metadata": {},
   "outputs": [],
   "source": []
  }
 ],
 "metadata": {
  "kernelspec": {
   "display_name": "Python 3",
   "language": "python",
   "name": "python3"
  },
  "language_info": {
   "codemirror_mode": {
    "name": "ipython",
    "version": 3
   },
   "file_extension": ".py",
   "mimetype": "text/x-python",
   "name": "python",
   "nbconvert_exporter": "python",
   "pygments_lexer": "ipython3",
   "version": "3.6.4"
  }
 },
 "nbformat": 4,
 "nbformat_minor": 2
}

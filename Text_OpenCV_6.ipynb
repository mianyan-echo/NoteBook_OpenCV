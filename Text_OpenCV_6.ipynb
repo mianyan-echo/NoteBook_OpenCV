{
 "cells": [
  {
   "cell_type": "code",
   "execution_count": 1,
   "metadata": {},
   "outputs": [],
   "source": [
    "import cv2\n",
    "import numpy as np"
   ]
  },
  {
   "cell_type": "code",
   "execution_count": 2,
   "metadata": {},
   "outputs": [],
   "source": [
    "cap = cv2.VideoCapture(0)\n",
    "\n",
    "while True:\n",
    "    ret,im = cap.read()\n",
    "    \n",
    "    pri = np.zeros(im.shape[:2])\n",
    "    \n",
    "    hsv = cv2.cvtColor(im,cv2.COLOR_BGR2HSV)\n",
    "    \n",
    "    lower_red=np.array([160,110,170])\n",
    "    upper_red=np.array([180,255,255])\n",
    "    \n",
    "    maskR = cv2.inRange(hsv,lower_red,upper_red)\n",
    "    res = cv2.bitwise_and(im,im,mask=maskR)\n",
    "    cv2.imshow(\"res\",res)\n",
    "    \n",
    "    gray = cv2.cvtColor(res,cv2.COLOR_BGR2GRAY)\n",
    "    cv2.imshow(\"gray\",gray)\n",
    "    \n",
    "    #ret,thresh = cv2.threshold(res,127,255,cv2.THRESH_TOZERO)\n",
    "    ret,thresh = cv2.threshold(gray,1,1,cv2.THRESH_TOZERO)\n",
    "    image,contours,hierarchy = cv2.findContours(thresh,cv2.RETR_TREE,cv2.CHAIN_APPROX_SIMPLE)\n",
    "    #image=thresh\n",
    "    \n",
    "    #M = cv2.moments(contours[0])\n",
    "    #cx = M['m10']/M['m00']\n",
    "    #cy = M['m01']/M['m00']\n",
    "    #ellipse = cv2.fitEllipse(contours[0])\n",
    "    img = cv2.drawContours(pri,contours,-1,(255,255,255),1)\n",
    "    #cv2.circle(img,ellipse,1,(255,255,255),-1)\n",
    "    cv2.imshow(\"video\",img)\n",
    "    \n",
    "    if cv2.waitKey(1) &0xFF == ord(\"q\"):\n",
    "        break\n",
    "\n",
    "cap.release()\n",
    "cv2.destroyAllWindows()"
   ]
  },
  {
   "cell_type": "markdown",
   "metadata": {},
   "source": [
    "## cv2.threshold()\n",
    "****"
   ]
  },
  {
   "cell_type": "code",
   "execution_count": 3,
   "metadata": {},
   "outputs": [
    {
     "data": {
      "text/plain": [
       "<matplotlib.figure.Figure at 0x1e809504ef0>"
      ]
     },
     "metadata": {},
     "output_type": "display_data"
    }
   ],
   "source": [
    "import cv2  \n",
    "import matplotlib.pyplot as plt  \n",
    "  \n",
    "img = cv2.imread('RGB.jpg',0) #直接读为灰度图像  \n",
    "  \n",
    "#二值化  \n",
    "ret,thresh1 = cv2.threshold(img,1,255,cv2.THRESH_BINARY)  \n",
    "  \n",
    "ret,thresh2 = cv2.threshold(img,127,255,cv2.THRESH_BINARY_INV)  \n",
    "ret,thresh3 = cv2.threshold(img,127,255,cv2.THRESH_TRUNC)  \n",
    "ret,thresh4 = cv2.threshold(img,127,255,cv2.THRESH_TOZERO)  \n",
    "ret,thresh5 = cv2.threshold(img,127,255,cv2.THRESH_TOZERO_INV)  \n",
    "titles = ['img','BINARY','BINARY_INV','TRUNC','TOZERO','TOZERO_INV']  \n",
    "images = [img,thresh1,thresh2,thresh3,thresh4,thresh5]  \n",
    "for i in range(6):  \n",
    "    plt.subplot(2,3,i+1),plt.imshow(images[i],'gray')  \n",
    "    plt.title(titles[i])  \n",
    "    plt.xticks([]),plt.yticks([])  \n",
    "plt.show()  "
   ]
  },
  {
   "cell_type": "markdown",
   "metadata": {},
   "source": [
    "## cv2.findContours()\n",
    "***\n",
    "* 需要注意的是cv2.findContours()函数接受的参数为二值图，即黑白的（不是灰度图），所以读取的图像要先转成灰度的，再转成二值图\n",
    "\n",
    "* findcontours函数会“原地”修改输入的图像"
   ]
  },
  {
   "cell_type": "markdown",
   "metadata": {},
   "source": [
    "函数的原型为:\n",
    "```\n",
    "cv2.findContours(image, mode, method[, contours[, hierarchy[, offset ]]])\n",
    "```\n",
    "返回两个值：contours：hierarchy\n",
    "\n",
    "### 参数\n",
    "* 第一个参数是寻找轮廓的图像；\n",
    "\n",
    "* 第二个参数表示轮廓的检索模式，有四种：\n",
    "```\n",
    "    cv2.RETR_EXTERNAL表示只检测外轮廓\n",
    "    cv2.RETR_LIST检测的轮廓不建立等级关系\n",
    "    cv2.RETR_CCOMP建立两个等级的轮廓，上面的一层为外边界，里面的一层为内孔的边界信息。如果内孔内还有一个连通物体，这个物体的边界也在顶层。\n",
    "    cv2.RETR_TREE建立一个等级树结构的轮廓。\n",
    "```\n",
    "* 第三个参数method为轮廓的近似办法\n",
    "```\n",
    "    cv2.CHAIN_APPROX_NONE存储所有的轮廓点，相邻的两个点的像素位置差不超过1，即max（abs（x1-x2），abs（y2-y1））==1\n",
    "    cv2.CHAIN_APPROX_SIMPLE压缩水平方向，垂直方向，对角线方向的元素，只保留该方向的终点坐标，例如一个矩形轮廓只需4个点来保存轮廓信息\n",
    "    cv2.CHAIN_APPROX_TC89_L1，CV_CHAIN_APPROX_TC89_KCOS使用teh-Chinl chain 近似算法\n",
    "```\n",
    "\n",
    "### 返回值\n",
    "cv2.findContours()函数返回两个值，一个是轮廓本身，还有一个是每条轮廓对应的属性。\n",
    "\n",
    "* contour返回值\n",
    "\n",
    "cv2.findContours()函数首先返回一个list，list中每个元素都是图像中的一个轮廓，用numpy中的ndarray表示。这个概念非常重要。\n",
    "\n",
    "* hierarchy返回值\n",
    "\n",
    "此外，该函数还可返回一个可选的hiararchy结果，这是一个ndarray，其中的元素个数和轮廓个数相同，每个轮廓contours[i]对应4个hierarchy元素hierarchy[i][0] ~hierarchy[i][3]，分别表示后一个轮廓、前一个轮廓、父轮廓、内嵌轮廓的索引编号，如果没有对应项，则该值为负数。\n",
    "hierarchy本身包含两个ndarray，每个ndarray对应一个轮廓，每个轮廓有四个属性"
   ]
  },
  {
   "cell_type": "code",
   "execution_count": 4,
   "metadata": {},
   "outputs": [],
   "source": [
    "hierarchy"
   ]
  },
  {
   "cell_type": "code",
   "execution_count": null,
   "metadata": {},
   "outputs": [],
   "source": []
  }
 ],
 "metadata": {
  "kernelspec": {
   "display_name": "Python 3",
   "language": "python",
   "name": "python3"
  },
  "language_info": {
   "codemirror_mode": {
    "name": "ipython",
    "version": 3
   },
   "file_extension": ".py",
   "mimetype": "text/x-python",
   "name": "python",
   "nbconvert_exporter": "python",
   "pygments_lexer": "ipython3",
   "version": "3.6.4"
  }
 },
 "nbformat": 4,
 "nbformat_minor": 2
}
